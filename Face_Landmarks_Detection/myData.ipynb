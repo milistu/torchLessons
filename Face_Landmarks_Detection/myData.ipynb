{
 "cells": [
  {
   "cell_type": "code",
   "execution_count": 16,
   "metadata": {},
   "outputs": [],
   "source": [
    "import os\n",
    "import torch\n",
    "import numpy as np\n",
    "import pandas as pd\n",
    "import matplotlib as plt\n",
    "import xml.etree.ElementTree as ET\n",
    "\n",
    "from torchvision import transforms, utils\n",
    "from torch.utils.data import DataLoader, Dataset"
   ]
  },
  {
   "attachments": {},
   "cell_type": "markdown",
   "metadata": {},
   "source": [
    "Check the data"
   ]
  },
  {
   "cell_type": "code",
   "execution_count": 13,
   "metadata": {},
   "outputs": [
    {
     "name": "stdout",
     "output_type": "stream",
     "text": [
      "Current working directory: C:\\Users\\Studen\\Documents\\vscode_projects\\torchLessons\n",
      "Change working directory to: C:\\Users\\Studen\\Documents\\vscode_projects\\torchLessons\n"
     ]
    }
   ],
   "source": [
    "print(f\"Current working directory: {os.getcwd()}\")\n",
    "os.chdir('C:/Users/Studen/Documents/vscode_projects/torchLessons/')\n",
    "print(f\"Change working directory to: {os.getcwd()}\")\n",
    "landmarks_frame = pd.read_xml('data/ibug_300W_large_face_landmark_dataset/labels_ibug_300W_train.xml')"
   ]
  },
  {
   "cell_type": "code",
   "execution_count": 14,
   "metadata": {},
   "outputs": [
    {
     "data": {
      "text/html": [
       "<div>\n",
       "<style scoped>\n",
       "    .dataframe tbody tr th:only-of-type {\n",
       "        vertical-align: middle;\n",
       "    }\n",
       "\n",
       "    .dataframe tbody tr th {\n",
       "        vertical-align: top;\n",
       "    }\n",
       "\n",
       "    .dataframe thead th {\n",
       "        text-align: right;\n",
       "    }\n",
       "</style>\n",
       "<table border=\"1\" class=\"dataframe\">\n",
       "  <thead>\n",
       "    <tr style=\"text-align: right;\">\n",
       "      <th></th>\n",
       "      <th>name</th>\n",
       "      <th>comment</th>\n",
       "      <th>image</th>\n",
       "    </tr>\n",
       "  </thead>\n",
       "  <tbody>\n",
       "    <tr>\n",
       "      <th>0</th>\n",
       "      <td>iBUG face point dataset - training images</td>\n",
       "      <td>None</td>\n",
       "      <td>NaN</td>\n",
       "    </tr>\n",
       "    <tr>\n",
       "      <th>1</th>\n",
       "      <td>None</td>\n",
       "      <td>This folder contains data downloaded from:\\nht...</td>\n",
       "      <td>NaN</td>\n",
       "    </tr>\n",
       "    <tr>\n",
       "      <th>2</th>\n",
       "      <td>None</td>\n",
       "      <td>None</td>\n",
       "      <td>NaN</td>\n",
       "    </tr>\n",
       "  </tbody>\n",
       "</table>\n",
       "</div>"
      ],
      "text/plain": [
       "                                        name  \\\n",
       "0  iBUG face point dataset - training images   \n",
       "1                                       None   \n",
       "2                                       None   \n",
       "\n",
       "                                             comment  image  \n",
       "0                                               None    NaN  \n",
       "1  This folder contains data downloaded from:\\nht...    NaN  \n",
       "2                                               None    NaN  "
      ]
     },
     "execution_count": 14,
     "metadata": {},
     "output_type": "execute_result"
    }
   ],
   "source": [
    "landmarks_frame"
   ]
  },
  {
   "cell_type": "code",
   "execution_count": 19,
   "metadata": {},
   "outputs": [],
   "source": [
    "tree = ET.parse('data/ibug_300W_large_face_landmark_dataset/labels_ibug_300W_train.xml')"
   ]
  },
  {
   "cell_type": "code",
   "execution_count": 23,
   "metadata": {},
   "outputs": [
    {
     "name": "stdout",
     "output_type": "stream",
     "text": [
      "Tag: dataset\n",
      "Attrib: {}\n"
     ]
    }
   ],
   "source": [
    "root = tree.getroot()\n",
    "print(f\"Tag: {root.tag}\")\n",
    "print(f\"Attrib: {root.attrib}\")"
   ]
  },
  {
   "cell_type": "code",
   "execution_count": 26,
   "metadata": {},
   "outputs": [
    {
     "name": "stdout",
     "output_type": "stream",
     "text": [
      "0: ('name', {})\n",
      "1: ('comment', {})\n",
      "2: ('images', {})\n"
     ]
    }
   ],
   "source": [
    "for idx, child in enumerate(root):\n",
    "    print(f\"{idx}: {child.tag, child.attrib}\")"
   ]
  },
  {
   "cell_type": "code",
   "execution_count": 39,
   "metadata": {},
   "outputs": [],
   "source": [
    "root_dir = 'data/ibug_300W_large_face_landmark_dataset/'"
   ]
  },
  {
   "cell_type": "code",
   "execution_count": 43,
   "metadata": {},
   "outputs": [
    {
     "name": "stdout",
     "output_type": "stream",
     "text": [
      "Image name: lfpw/trainset/image_0457.png, W: 350 H: 464\n",
      "Crop data: {'top': '78', 'left': '74', 'width': '138', 'height': '140'}\n",
      "[['55', '141'], ['59', '161'], ['66', '182'], ['75', '197'], ['90', '209'], ['108', '220'], ['131', '226'], ['149', '232'], ['167', '230'], ['181', '225'], ['184', '208'], ['186', '193'], ['185', '179'], ['184', '167'], ['186', '152'], ['185', '142'], ['181', '133'], ['95', '128'], ['105', '121'], ['117', '117'], ['128', '115'], ['141', '116'], ['156', '115'], ['162', '110'], ['169', '108'], ['175', '108'], ['180', '109'], ['152', '127'], ['157', '136'], ['162', '145'], ['168', '154'], ['152', '166'], ['158', '166'], ['163', '168'], ['167', '166'], ['171', '164'], ['111', '134'], ['116', '130'], ['124', '128'], ['129', '130'], ['125', '134'], ['118', '136'], ['161', '127'], ['166', '123'], ['173', '122'], ['176', '125'], ['173', '129'], ['167', '129'], ['139', '194'], ['151', '186'], ['159', '180'], ['163', '182'], ['168', '180'], ['173', '183'], ['176', '189'], ['174', '193'], ['170', '197'], ['165', '199'], ['160', '199'], ['152', '198'], ['143', '194'], ['159', '186'], ['163', '187'], ['168', '186'], ['174', '189'], ['168', '191'], ['164', '192'], ['160', '192']]\n"
     ]
    }
   ],
   "source": [
    "file = root[2][0]\n",
    "\n",
    "image_name = file.attrib['file']\n",
    "w, h = file.attrib['width'], file.attrib['height']\n",
    "print(f\"Image name: {image_name}, W: {w} H: {h}\")\n",
    "\n",
    "crop_data = file[0].attrib\n",
    "print(f\"Crop data: {crop_data}\")\n",
    "\n",
    "landmarks = []\n",
    "for num in range(68):\n",
    "    x = file[0][num].attrib['x']\n",
    "    y = file[0][num].attrib['y']\n",
    "    landmarks.append([x, y])\n",
    "\n",
    "print(landmarks)"
   ]
  },
  {
   "cell_type": "code",
   "execution_count": null,
   "metadata": {},
   "outputs": [],
   "source": []
  }
 ],
 "metadata": {
  "kernelspec": {
   "display_name": "venv_torch",
   "language": "python",
   "name": "python3"
  },
  "language_info": {
   "codemirror_mode": {
    "name": "ipython",
    "version": 3
   },
   "file_extension": ".py",
   "mimetype": "text/x-python",
   "name": "python",
   "nbconvert_exporter": "python",
   "pygments_lexer": "ipython3",
   "version": "3.8.0"
  },
  "orig_nbformat": 4
 },
 "nbformat": 4,
 "nbformat_minor": 2
}
